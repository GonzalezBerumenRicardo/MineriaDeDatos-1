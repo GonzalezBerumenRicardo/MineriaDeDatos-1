{
 "cells": [
  {
   "cell_type": "markdown",
   "source": [
    "Minería de datos grupo 001 Lunes \r\n",
    "\r\n",
    "Equipo 3:\r\n",
    "\r\n",
    "- González Berumen Ricardo        1941497\r\n",
    "- Gaytán Gutiérrez José Claudio   1855455\r\n",
    "- López Verduzco Ruy Aramis       1863861\r\n",
    "- Rodríguez Pacheco Nancy Janeth  1845816\r\n",
    "- Ruiz Espitia Thalía             1941494\r\n",
    "\r\n",
    "1. Título de la base de datos\r\n",
    "\r\n",
    "a) Nombre: Bread Basket\r\n",
    "\r\n",
    "b) URL: https://www.kaggle.com/mittalvasu95/the-bread-basket \r\n",
    "\r\n",
    "2. Introducción general\r\n",
    "\r\n",
    "En la operación general de un negocio tal como una panadería es de\r\n",
    "vital importancia tener un conocimiento amplio del mercado, esto con\r\n",
    "la razón de abastecer la demanda de los productos que forman parte\r\n",
    "del menú, tomando decisiones estrategicas en cuanto al invenariado de acuerdo al comportamiento de los clientes.\r\n",
    "\r\n",
    "3. Descripción de los datos\r\n",
    "\r\n",
    "a) ¿Qué tipo de datos son?\r\n",
    "\r\n",
    "Es la base de datos \"The bread basket\" en formato csv, la cual\r\n",
    "contiene los registros de las transacciones realizadas en un negocio de pan \r\n",
    "entre las fechas del 30 de octubre 2016 a las 09:58\r\n",
    "horas 15 de abril 2017 a las 15:04 horas. Se cuenta con 9684\r\n",
    "registros en total. \r\n",
    "\r\n",
    "b) Descripción de las columnas.\r\n",
    "\r\n",
    "La tabla está compuesta de las siguientes columnas:\r\n",
    "- Transaction :     Número de transacción que ocupa en la lista.\r\n",
    "- Item :            El tipo de producto que tuvo la interacción.\r\n",
    "- date_time :       Fecha y hora en que se realizó la venta.\r\n",
    "- period_day :      Tiempo del día en que se ubica (mañana o tarde).\r\n",
    "- weekday_weekend : Ubicación en la semana laboral (entre semana o en fin de semana).\r\n",
    "\r\n",
    "4. Justificación del uso de datos\r\n",
    "\r\n",
    "A) Características destacables\r\n",
    "Se puede ver la manera en que la hora del día o el día de la\r\n",
    "semana influyen en la popularidad de algún producto en especial,\r\n",
    "por lo que para el desarrollo de un negocio es muy importante\r\n",
    "conocer las tendencias a diferentes tiempos. Así como la\r\n",
    "popularidad de ciertos conjuntos de productos que se compran en conjunto.\r\n",
    "\r\n",
    "B) Beneficios del uso\r\n",
    "Haciendo uso de los datos podemos notar que algunos productos\r\n",
    "son comprados en conjunto, por lo que se puede dar un área de\r\n",
    "oportunidad para capitalizar en dicha tendencia; empleando\r\n",
    "recursos tales como promociones, descuentos, etc.\r\n",
    "Debido a la naturaleza de los datos podemos identificar qué objetos\r\n",
    "del menú son altamente populares en ciertas horas del dia y asi producir estrategicamente para atender la demanda.\r\n",
    "\r\n",
    "5. Objetivos\r\n",
    "\r\n",
    "- Objetivo principal\r\n",
    "Identificar la popularidad de los productos que se compran en conjunto en general y de acuerdo a la hora\r\n",
    "del día; haciendo uso de reglas de asociación para este fin.\r\n",
    "\r\n",
    "- Objetivo secundario\r\n",
    "Analizar las tendencias en las transacciones de los productos haciendo\r\n",
    "uso de series de tiempo.\r\n",
    "\r\n",
    "6. Preguntas de interés\r\n",
    "\r\n",
    "- ¿Qué productos son comprados en conjuntos con mayor\r\n",
    "prevalencia?\r\n",
    "- ¿La hora del día influye en las decisiones de los clientes?\r\n",
    "- ¿Existe alguna relación entre los productos que son\r\n",
    "normalmente comprados en conjunto?\r\n",
    "- ¿A qué hora del día las ventas son más prevalentes?\r\n",
    "- ¿La popularidad del establecimiento es constante, creciente\r\n",
    "o decreciente?\r\n"
   ],
   "metadata": {}
  },
  {
   "cell_type": "markdown",
   "source": [
    "# Limpieza de datos"
   ],
   "metadata": {}
  },
  {
   "cell_type": "code",
   "execution_count": 2,
   "source": [
    "import numpy as np\r\n",
    "import pandas as pd"
   ],
   "outputs": [],
   "metadata": {}
  },
  {
   "cell_type": "markdown",
   "source": [
    "## Dimension de la base de datos"
   ],
   "metadata": {}
  },
  {
   "cell_type": "code",
   "execution_count": 3,
   "source": [
    "data = pd.read_csv(\"breadBasket.csv\")\r\n",
    "print(\"Numero de Filas y columnas: \", data.shape)\r\n",
    "print(\"Nombre de las columnas: \", data.columns)\r\n",
    "columnas = data.columns"
   ],
   "outputs": [
    {
     "output_type": "stream",
     "name": "stdout",
     "text": [
      "Numero de Filas y columnas:  (20507, 5)\n",
      "Nombre de las columnas:  Index(['Transaction', 'Item', 'date_time', 'period_day', 'weekday_weekend'], dtype='object')\n"
     ]
    }
   ],
   "metadata": {}
  },
  {
   "cell_type": "markdown",
   "source": [
    "Los nombres de las columnas nos parecieron bien porque no conllevan espacios, por tanto no se modificaron."
   ],
   "metadata": {}
  },
  {
   "cell_type": "markdown",
   "source": [
    "## Acercamiento a la base de datos\r\n",
    "Se ve los primeros 5 datos de la base, para saber el tipo de dato que lleva cada columna a trabajar."
   ],
   "metadata": {}
  },
  {
   "cell_type": "code",
   "execution_count": null,
   "source": [
    "data.head()"
   ],
   "outputs": [
    {
     "output_type": "execute_result",
     "data": {
      "text/html": [
       "<div>\n",
       "<style scoped>\n",
       "    .dataframe tbody tr th:only-of-type {\n",
       "        vertical-align: middle;\n",
       "    }\n",
       "\n",
       "    .dataframe tbody tr th {\n",
       "        vertical-align: top;\n",
       "    }\n",
       "\n",
       "    .dataframe thead th {\n",
       "        text-align: right;\n",
       "    }\n",
       "</style>\n",
       "<table border=\"1\" class=\"dataframe\">\n",
       "  <thead>\n",
       "    <tr style=\"text-align: right;\">\n",
       "      <th></th>\n",
       "      <th>Transaction</th>\n",
       "      <th>Item</th>\n",
       "      <th>date_time</th>\n",
       "      <th>period_day</th>\n",
       "      <th>weekday_weekend</th>\n",
       "    </tr>\n",
       "  </thead>\n",
       "  <tbody>\n",
       "    <tr>\n",
       "      <th>0</th>\n",
       "      <td>1</td>\n",
       "      <td>Bread</td>\n",
       "      <td>30-10-2016 09:58</td>\n",
       "      <td>morning</td>\n",
       "      <td>weekend</td>\n",
       "    </tr>\n",
       "    <tr>\n",
       "      <th>1</th>\n",
       "      <td>2</td>\n",
       "      <td>Scandinavian</td>\n",
       "      <td>30-10-2016 10:05</td>\n",
       "      <td>morning</td>\n",
       "      <td>weekend</td>\n",
       "    </tr>\n",
       "    <tr>\n",
       "      <th>2</th>\n",
       "      <td>2</td>\n",
       "      <td>Scandinavian</td>\n",
       "      <td>30-10-2016 10:05</td>\n",
       "      <td>morning</td>\n",
       "      <td>weekend</td>\n",
       "    </tr>\n",
       "    <tr>\n",
       "      <th>3</th>\n",
       "      <td>3</td>\n",
       "      <td>Hot chocolate</td>\n",
       "      <td>30-10-2016 10:07</td>\n",
       "      <td>morning</td>\n",
       "      <td>weekend</td>\n",
       "    </tr>\n",
       "    <tr>\n",
       "      <th>4</th>\n",
       "      <td>3</td>\n",
       "      <td>Jam</td>\n",
       "      <td>30-10-2016 10:07</td>\n",
       "      <td>morning</td>\n",
       "      <td>weekend</td>\n",
       "    </tr>\n",
       "  </tbody>\n",
       "</table>\n",
       "</div>"
      ],
      "text/plain": [
       "   Transaction           Item         date_time period_day weekday_weekend\n",
       "0            1          Bread  30-10-2016 09:58    morning         weekend\n",
       "1            2   Scandinavian  30-10-2016 10:05    morning         weekend\n",
       "2            2   Scandinavian  30-10-2016 10:05    morning         weekend\n",
       "3            3  Hot chocolate  30-10-2016 10:07    morning         weekend\n",
       "4            3            Jam  30-10-2016 10:07    morning         weekend"
      ]
     },
     "metadata": {},
     "execution_count": 5
    }
   ],
   "metadata": {}
  },
  {
   "cell_type": "markdown",
   "source": [
    "## Descripcion de las columnas\r\n"
   ],
   "metadata": {}
  },
  {
   "cell_type": "code",
   "execution_count": null,
   "source": [
    "data.dtypes"
   ],
   "outputs": [
    {
     "output_type": "execute_result",
     "data": {
      "text/plain": [
       "Transaction         int64\n",
       "Item               object\n",
       "date_time          object\n",
       "period_day         object\n",
       "weekday_weekend    object\n",
       "dtype: object"
      ]
     },
     "metadata": {},
     "execution_count": 6
    }
   ],
   "metadata": {}
  },
  {
   "cell_type": "markdown",
   "source": [
    "La columna Transaction es una columna indice, las demas son categoricas."
   ],
   "metadata": {}
  },
  {
   "cell_type": "markdown",
   "source": [
    "## Objetos nulos"
   ],
   "metadata": {}
  },
  {
   "cell_type": "code",
   "execution_count": null,
   "source": [
    "data.isnull().any()"
   ],
   "outputs": [
    {
     "output_type": "execute_result",
     "data": {
      "text/plain": [
       "Transaction        False\n",
       "Item               False\n",
       "date_time          False\n",
       "period_day         False\n",
       "weekday_weekend    False\n",
       "dtype: bool"
      ]
     },
     "metadata": {},
     "execution_count": 7
    }
   ],
   "metadata": {}
  },
  {
   "cell_type": "markdown",
   "source": [
    "No hay valores nulos en toda la base de datos."
   ],
   "metadata": {}
  },
  {
   "cell_type": "markdown",
   "source": [
    "## Valores unicos \r\n",
    "Como se haran clasificaciones por producto en cada transaccion, nos interesa ver los productos unicos en las transacciones y la cantidad de cada uno. "
   ],
   "metadata": {}
  },
  {
   "cell_type": "code",
   "execution_count": 4,
   "source": [
    "conteoProductos = data.groupby(by= \"Item\").size().reset_index(name='counts').sort_values(by = \"counts\", ascending=False)\r\n",
    "print(conteoProductos)"
   ],
   "outputs": [
    {
     "output_type": "stream",
     "name": "stdout",
     "text": [
      "              Item  counts\n",
      "23          Coffee    5471\n",
      "11           Bread    3325\n",
      "83             Tea    1435\n",
      "15            Cake    1025\n",
      "65          Pastry     856\n",
      "..             ...     ...\n",
      "19    Chicken sand       1\n",
      "41    Gift voucher       1\n",
      "63  Olum & polenta       1\n",
      "71        Raw bars       1\n",
      "0       Adjustment       1\n",
      "\n",
      "[94 rows x 2 columns]\n"
     ]
    }
   ],
   "metadata": {}
  },
  {
   "cell_type": "markdown",
   "source": [
    "Tambien los valores unicos en cada columna:"
   ],
   "metadata": {}
  },
  {
   "cell_type": "code",
   "execution_count": null,
   "source": [
    "for columna in columnas:\r\n",
    "    print(str(columna))\r\n",
    "    print(np.unique(data[str(columna)]))"
   ],
   "outputs": [
    {
     "output_type": "stream",
     "name": "stdout",
     "text": [
      "Transaction\n",
      "[   1    2    3 ... 9682 9683 9684]\n",
      "Item\n",
      "['Adjustment' 'Afternoon with the baker' 'Alfajores' 'Argentina Night'\n",
      " 'Art Tray' 'Bacon' 'Baguette' 'Bakewell' 'Bare Popcorn' 'Basket'\n",
      " 'Bowl Nic Pitt' 'Bread' 'Bread Pudding' 'Brioche and salami' 'Brownie'\n",
      " 'Cake' 'Caramel bites' 'Cherry me Dried fruit' 'Chicken Stew'\n",
      " 'Chicken sand' 'Chimichurri Oil' 'Chocolates' 'Christmas common' 'Coffee'\n",
      " 'Coffee granules ' 'Coke' 'Cookies' 'Crepes' 'Crisps'\n",
      " 'Drinking chocolate spoons ' 'Duck egg' 'Dulce de Leche' 'Eggs'\n",
      " \"Ella's Kitchen Pouches\" 'Empanadas' 'Extra Salami or Feta' 'Fairy Doors'\n",
      " 'Farm House' 'Focaccia' 'Frittata' 'Fudge' 'Gift voucher'\n",
      " 'Gingerbread syrup' 'Granola' 'Hack the stack' 'Half slice Monster '\n",
      " 'Hearty & Seasonal' 'Honey' 'Hot chocolate' 'Jam' 'Jammie Dodgers'\n",
      " 'Juice' 'Keeping It Local' 'Kids biscuit' 'Lemon and coconut' 'Medialuna'\n",
      " 'Mighty Protein' 'Mineral water' 'Mortimer' 'Muesli' 'Muffin'\n",
      " 'My-5 Fruit Shoot' 'Nomad bag' 'Olum & polenta' 'Panatone' 'Pastry'\n",
      " 'Pick and Mix Bowls' 'Pintxos' 'Polenta' 'Postcard'\n",
      " 'Raspberry shortbread sandwich' 'Raw bars' 'Salad' 'Sandwich'\n",
      " 'Scandinavian' 'Scone' 'Siblings' 'Smoothies' 'Soup' 'Spanish Brunch'\n",
      " 'Spread' 'Tacos/Fajita' 'Tartine' 'Tea' 'The BART' 'The Nomad' 'Tiffin'\n",
      " 'Toast' 'Truffles' 'Tshirt' \"Valentine's card\" 'Vegan Feast'\n",
      " 'Vegan mincepie' 'Victorian Sponge']\n",
      "date_time\n",
      "['01-01-2017 01:21' '01-02-2017 08:37' '01-02-2017 08:40' ...\n",
      " '31-12-2016 15:53' '31-12-2016 15:54' '31-12-2016 17:36']\n",
      "period_day\n",
      "['afternoon' 'evening' 'morning' 'night']\n",
      "weekday_weekend\n",
      "['weekday' 'weekend']\n"
     ]
    }
   ],
   "metadata": {}
  },
  {
   "cell_type": "markdown",
   "source": [
    "## Modificacion en el formato de la fecha\r\n",
    "Como la base de datos venia en formato de day/month/year y este formato no permite ordenar por fecha o agrupar ya sea por año o mes, por lo que se modifico y se agrego en columnas distintas:"
   ],
   "metadata": {}
  },
  {
   "cell_type": "code",
   "execution_count": 20,
   "source": [
    "#Rutina para cambiar formato de la fecha\r\n",
    "year = []\r\n",
    "month = []\r\n",
    "day = []\r\n",
    "cleanDate = []\r\n",
    "for fecha in data[\"date_time\"]:\r\n",
    "    #print(fecha)\r\n",
    "    #Para separar año\r\n",
    "    for fechaseparada in fecha.split(\"-\"):\r\n",
    "        if len(fechaseparada)>2:\r\n",
    "            yearTEMP = fechaseparada.split(\" \")[0]\r\n",
    "            year.append(yearTEMP)\r\n",
    "    #Para separar dia\r\n",
    "    dayTEMP = fecha.split(\"-\")[0]\r\n",
    "    day.append(dayTEMP)\r\n",
    "    #Para separar mes\r\n",
    "    monthTEMP = fecha.split(\"-\")[1]\r\n",
    "    month.append(monthTEMP)\r\n",
    "    clean = yearTEMP + \"-\" + monthTEMP + \"-\" + dayTEMP\r\n",
    "    cleanDate.append(clean)\r\n",
    "\r\n",
    "#print(cleanDate)\r\n",
    "#Agregamos las columnas a la base de datos\r\n",
    "data_cleandate = data.assign(clean_date = cleanDate,year = year, month = month, day = day)\r\n",
    "data_cleandate"
   ],
   "outputs": [
    {
     "output_type": "execute_result",
     "data": {
      "text/html": [
       "<div>\n",
       "<style scoped>\n",
       "    .dataframe tbody tr th:only-of-type {\n",
       "        vertical-align: middle;\n",
       "    }\n",
       "\n",
       "    .dataframe tbody tr th {\n",
       "        vertical-align: top;\n",
       "    }\n",
       "\n",
       "    .dataframe thead th {\n",
       "        text-align: right;\n",
       "    }\n",
       "</style>\n",
       "<table border=\"1\" class=\"dataframe\">\n",
       "  <thead>\n",
       "    <tr style=\"text-align: right;\">\n",
       "      <th></th>\n",
       "      <th>Transaction</th>\n",
       "      <th>Item</th>\n",
       "      <th>date_time</th>\n",
       "      <th>period_day</th>\n",
       "      <th>weekday_weekend</th>\n",
       "      <th>clean_date</th>\n",
       "      <th>year</th>\n",
       "      <th>month</th>\n",
       "      <th>day</th>\n",
       "    </tr>\n",
       "  </thead>\n",
       "  <tbody>\n",
       "    <tr>\n",
       "      <th>0</th>\n",
       "      <td>1</td>\n",
       "      <td>Bread</td>\n",
       "      <td>30-10-2016 09:58</td>\n",
       "      <td>morning</td>\n",
       "      <td>weekend</td>\n",
       "      <td>2016-10-30</td>\n",
       "      <td>2016</td>\n",
       "      <td>10</td>\n",
       "      <td>30</td>\n",
       "    </tr>\n",
       "    <tr>\n",
       "      <th>1</th>\n",
       "      <td>2</td>\n",
       "      <td>Scandinavian</td>\n",
       "      <td>30-10-2016 10:05</td>\n",
       "      <td>morning</td>\n",
       "      <td>weekend</td>\n",
       "      <td>2016-10-30</td>\n",
       "      <td>2016</td>\n",
       "      <td>10</td>\n",
       "      <td>30</td>\n",
       "    </tr>\n",
       "    <tr>\n",
       "      <th>2</th>\n",
       "      <td>2</td>\n",
       "      <td>Scandinavian</td>\n",
       "      <td>30-10-2016 10:05</td>\n",
       "      <td>morning</td>\n",
       "      <td>weekend</td>\n",
       "      <td>2016-10-30</td>\n",
       "      <td>2016</td>\n",
       "      <td>10</td>\n",
       "      <td>30</td>\n",
       "    </tr>\n",
       "    <tr>\n",
       "      <th>3</th>\n",
       "      <td>3</td>\n",
       "      <td>Hot chocolate</td>\n",
       "      <td>30-10-2016 10:07</td>\n",
       "      <td>morning</td>\n",
       "      <td>weekend</td>\n",
       "      <td>2016-10-30</td>\n",
       "      <td>2016</td>\n",
       "      <td>10</td>\n",
       "      <td>30</td>\n",
       "    </tr>\n",
       "    <tr>\n",
       "      <th>4</th>\n",
       "      <td>3</td>\n",
       "      <td>Jam</td>\n",
       "      <td>30-10-2016 10:07</td>\n",
       "      <td>morning</td>\n",
       "      <td>weekend</td>\n",
       "      <td>2016-10-30</td>\n",
       "      <td>2016</td>\n",
       "      <td>10</td>\n",
       "      <td>30</td>\n",
       "    </tr>\n",
       "    <tr>\n",
       "      <th>...</th>\n",
       "      <td>...</td>\n",
       "      <td>...</td>\n",
       "      <td>...</td>\n",
       "      <td>...</td>\n",
       "      <td>...</td>\n",
       "      <td>...</td>\n",
       "      <td>...</td>\n",
       "      <td>...</td>\n",
       "      <td>...</td>\n",
       "    </tr>\n",
       "    <tr>\n",
       "      <th>20502</th>\n",
       "      <td>9682</td>\n",
       "      <td>Coffee</td>\n",
       "      <td>09-04-2017 14:32</td>\n",
       "      <td>afternoon</td>\n",
       "      <td>weekend</td>\n",
       "      <td>2017-04-09</td>\n",
       "      <td>2017</td>\n",
       "      <td>04</td>\n",
       "      <td>09</td>\n",
       "    </tr>\n",
       "    <tr>\n",
       "      <th>20503</th>\n",
       "      <td>9682</td>\n",
       "      <td>Tea</td>\n",
       "      <td>09-04-2017 14:32</td>\n",
       "      <td>afternoon</td>\n",
       "      <td>weekend</td>\n",
       "      <td>2017-04-09</td>\n",
       "      <td>2017</td>\n",
       "      <td>04</td>\n",
       "      <td>09</td>\n",
       "    </tr>\n",
       "    <tr>\n",
       "      <th>20504</th>\n",
       "      <td>9683</td>\n",
       "      <td>Coffee</td>\n",
       "      <td>09-04-2017 14:57</td>\n",
       "      <td>afternoon</td>\n",
       "      <td>weekend</td>\n",
       "      <td>2017-04-09</td>\n",
       "      <td>2017</td>\n",
       "      <td>04</td>\n",
       "      <td>09</td>\n",
       "    </tr>\n",
       "    <tr>\n",
       "      <th>20505</th>\n",
       "      <td>9683</td>\n",
       "      <td>Pastry</td>\n",
       "      <td>09-04-2017 14:57</td>\n",
       "      <td>afternoon</td>\n",
       "      <td>weekend</td>\n",
       "      <td>2017-04-09</td>\n",
       "      <td>2017</td>\n",
       "      <td>04</td>\n",
       "      <td>09</td>\n",
       "    </tr>\n",
       "    <tr>\n",
       "      <th>20506</th>\n",
       "      <td>9684</td>\n",
       "      <td>Smoothies</td>\n",
       "      <td>09-04-2017 15:04</td>\n",
       "      <td>afternoon</td>\n",
       "      <td>weekend</td>\n",
       "      <td>2017-04-09</td>\n",
       "      <td>2017</td>\n",
       "      <td>04</td>\n",
       "      <td>09</td>\n",
       "    </tr>\n",
       "  </tbody>\n",
       "</table>\n",
       "<p>20507 rows × 9 columns</p>\n",
       "</div>"
      ],
      "text/plain": [
       "       Transaction           Item         date_time period_day  \\\n",
       "0                1          Bread  30-10-2016 09:58    morning   \n",
       "1                2   Scandinavian  30-10-2016 10:05    morning   \n",
       "2                2   Scandinavian  30-10-2016 10:05    morning   \n",
       "3                3  Hot chocolate  30-10-2016 10:07    morning   \n",
       "4                3            Jam  30-10-2016 10:07    morning   \n",
       "...            ...            ...               ...        ...   \n",
       "20502         9682         Coffee  09-04-2017 14:32  afternoon   \n",
       "20503         9682            Tea  09-04-2017 14:32  afternoon   \n",
       "20504         9683         Coffee  09-04-2017 14:57  afternoon   \n",
       "20505         9683         Pastry  09-04-2017 14:57  afternoon   \n",
       "20506         9684      Smoothies  09-04-2017 15:04  afternoon   \n",
       "\n",
       "      weekday_weekend  clean_date  year month day  \n",
       "0             weekend  2016-10-30  2016    10  30  \n",
       "1             weekend  2016-10-30  2016    10  30  \n",
       "2             weekend  2016-10-30  2016    10  30  \n",
       "3             weekend  2016-10-30  2016    10  30  \n",
       "4             weekend  2016-10-30  2016    10  30  \n",
       "...               ...         ...   ...   ...  ..  \n",
       "20502         weekend  2017-04-09  2017    04  09  \n",
       "20503         weekend  2017-04-09  2017    04  09  \n",
       "20504         weekend  2017-04-09  2017    04  09  \n",
       "20505         weekend  2017-04-09  2017    04  09  \n",
       "20506         weekend  2017-04-09  2017    04  09  \n",
       "\n",
       "[20507 rows x 9 columns]"
      ]
     },
     "metadata": {},
     "execution_count": 20
    }
   ],
   "metadata": {}
  },
  {
   "cell_type": "markdown",
   "source": [
    "En la siguiente tabla, se agrupo para realizar un conteo de ventas por dia y de ahi crear una serie de tiempo denominada \"serieVentas\""
   ],
   "metadata": {}
  },
  {
   "cell_type": "code",
   "execution_count": 60,
   "source": [
    "serieVentas = data_cleandate.groupby(by = \"clean_date\").size().reset_index(name='counts').sort_values(by = \"clean_date\", ascending=True)\r\n",
    "print(serieVentas)"
   ],
   "outputs": [
    {
     "output_type": "stream",
     "name": "stdout",
     "text": [
      "     clean_date  counts\n",
      "0    2016-10-30     170\n",
      "1    2016-10-31     199\n",
      "2    2016-11-01     150\n",
      "3    2016-11-02     164\n",
      "4    2016-11-03     189\n",
      "..          ...     ...\n",
      "154  2017-04-05     143\n",
      "155  2017-04-06     118\n",
      "156  2017-04-07      99\n",
      "157  2017-04-08     205\n",
      "158  2017-04-09      69\n",
      "\n",
      "[159 rows x 2 columns]\n"
     ]
    }
   ],
   "metadata": {}
  },
  {
   "cell_type": "markdown",
   "source": [
    "# Descripcion estadistica basica\r\n",
    "Se usara la base de datos con la serie de tiempo de ventas diarias:"
   ],
   "metadata": {}
  },
  {
   "cell_type": "code",
   "execution_count": 81,
   "source": [
    "print(\"\\t\\tESTADISTICA BASICA DE LA SERIE DE VENTAS DIARIAS: \\nSuma: \",serieVentas[\"counts\"].sum(),\r\n",
    "\"\\nPromedio: \",serieVentas[\"counts\"].mean(),\r\n",
    "\"\\nConteo: \",serieVentas[\"counts\"].count(), \r\n",
    "\"\\nMinimo: \",serieVentas[\"counts\"].min(),\r\n",
    "\"\\nMaximo: \",serieVentas[\"counts\"].max(),\r\n",
    "\"\\nMedia: \",serieVentas[\"counts\"].median(),\r\n",
    "\"\\nVarianza: \",serieVentas[\"counts\"].var(),\r\n",
    "\"\\nDesviacion estandar: \",serieVentas[\"counts\"].std(),\r\n",
    "\"\\nSkewness: \",serieVentas[\"counts\"].skew(),\r\n",
    "\"\\nKurtosis: \",serieVentas[\"counts\"].kurt())\r\n",
    "\r\n",
    "\r\n",
    "\r\n"
   ],
   "outputs": [
    {
     "output_type": "stream",
     "name": "stdout",
     "text": [
      "\t\tESTADISTICA BASICA DE LA SERIE DE VENTAS DIARIAS: \n",
      "Suma:  20507 \n",
      "Promedio:  128.9748427672956 \n",
      "Conteo:  159 \n",
      "Minimo:  1 \n",
      "Maximo:  292 \n",
      "Media:  118.0 \n",
      "Varianza:  2028.2778441206908 \n",
      "Desviacion estandar:  45.03640576378949 \n",
      "Skewness:  0.8689889126550832 \n",
      "Kurtosis:  1.3249945707062833\n"
     ]
    }
   ],
   "metadata": {}
  },
  {
   "cell_type": "markdown",
   "source": [
    "# Graficas"
   ],
   "metadata": {}
  },
  {
   "cell_type": "markdown",
   "source": [
    "Para visualizar la informacion anterior, se graficara:"
   ],
   "metadata": {}
  },
  {
   "cell_type": "code",
   "execution_count": 7,
   "source": [
    "import pandas as pd\r\n",
    "import matplotlib as plt"
   ],
   "outputs": [],
   "metadata": {}
  },
  {
   "cell_type": "markdown",
   "source": [
    "## Grafica de barras"
   ],
   "metadata": {}
  },
  {
   "cell_type": "markdown",
   "source": [
    "Con el siguiente grafico se puede ver cuales son los 15 productos mas vendidos y al mas vendido que es el cafe:"
   ],
   "metadata": {}
  },
  {
   "cell_type": "code",
   "execution_count": null,
   "source": [
    "data_cleandate[\"Item\"].value_counts().head(15).plot.bar()"
   ],
   "outputs": [
    {
     "output_type": "execute_result",
     "data": {
      "text/plain": [
       "<AxesSubplot:>"
      ]
     },
     "metadata": {},
     "execution_count": 12
    },
    {
     "output_type": "display_data",
     "data": {
      "image/png": "[encoded data removed]",
      "text/plain": [
       "<Figure size 432x288 with 1 Axes>"
      ]
     },
     "metadata": {
      "needs_background": "light"
     }
    }
   ],
   "metadata": {}
  },
  {
   "cell_type": "markdown",
   "source": [
    "Al agruparlos por el periodo del dia, se ve que por la tarde es cuando hay mas venta: "
   ],
   "metadata": {}
  },
  {
   "cell_type": "code",
   "execution_count": 8,
   "source": [
    "data_cleandate[\"period_day\"].value_counts().plot.bar()"
   ],
   "outputs": [
    {
     "output_type": "execute_result",
     "data": {
      "text/plain": [
       "<AxesSubplot:>"
      ]
     },
     "metadata": {},
     "execution_count": 8
    },
    {
     "output_type": "display_data",
     "data": {
      "image/png": "[encoded data removed]",
      "text/plain": [
       "<Figure size 432x288 with 1 Axes>"
      ]
     },
     "metadata": {
      "needs_background": "light"
     }
    }
   ],
   "metadata": {}
  },
  {
   "cell_type": "markdown",
   "source": [
    "## Grafica de lineas \r\n",
    "En este caso podemos usar la base de datos con las ventas diarias para poder visualizar la serie de tiempo de mejor manera:"
   ],
   "metadata": {}
  },
  {
   "cell_type": "code",
   "execution_count": 9,
   "source": [
    "serieVentas.plot.line()"
   ],
   "outputs": [
    {
     "output_type": "execute_result",
     "data": {
      "text/plain": [
       "<AxesSubplot:>"
      ]
     },
     "metadata": {},
     "execution_count": 9
    },
    {
     "output_type": "display_data",
     "data": {
      "image/png": "[encoded data removed]",
      "text/plain": [
       "<Figure size 432x288 with 1 Axes>"
      ]
     },
     "metadata": {
      "needs_background": "light"
     }
    }
   ],
   "metadata": {}
  },
  {
   "cell_type": "markdown",
   "source": [
    "## Scatterplot\r\n",
    "Se separo la hora de la fecha para tener cierta visualizacion en la concentracion de compras por hora:"
   ],
   "metadata": {}
  },
  {
   "cell_type": "code",
   "execution_count": 21,
   "source": [
    "hour = []\r\n",
    "for fecha in data[\"date_time\"]:\r\n",
    "    #print(fecha)\r\n",
    "    #Para separar hora\r\n",
    "    for fechaseparada in fecha.split(\"-\"):\r\n",
    "        if len(fechaseparada)>2:\r\n",
    "            hourTEMP = fechaseparada.split(\" \")[1]\r\n",
    "            hour.append(int(hourTEMP.split(\":\")[0]))\r\n",
    "\r\n",
    "data_cleandate = data_cleandate.assign(hour = hour)\r\n",
    "data_cleandate"
   ],
   "outputs": [
    {
     "output_type": "execute_result",
     "data": {
      "text/html": [
       "<div>\n",
       "<style scoped>\n",
       "    .dataframe tbody tr th:only-of-type {\n",
       "        vertical-align: middle;\n",
       "    }\n",
       "\n",
       "    .dataframe tbody tr th {\n",
       "        vertical-align: top;\n",
       "    }\n",
       "\n",
       "    .dataframe thead th {\n",
       "        text-align: right;\n",
       "    }\n",
       "</style>\n",
       "<table border=\"1\" class=\"dataframe\">\n",
       "  <thead>\n",
       "    <tr style=\"text-align: right;\">\n",
       "      <th></th>\n",
       "      <th>Transaction</th>\n",
       "      <th>Item</th>\n",
       "      <th>date_time</th>\n",
       "      <th>period_day</th>\n",
       "      <th>weekday_weekend</th>\n",
       "      <th>clean_date</th>\n",
       "      <th>year</th>\n",
       "      <th>month</th>\n",
       "      <th>day</th>\n",
       "      <th>hour</th>\n",
       "    </tr>\n",
       "  </thead>\n",
       "  <tbody>\n",
       "    <tr>\n",
       "      <th>0</th>\n",
       "      <td>1</td>\n",
       "      <td>Bread</td>\n",
       "      <td>30-10-2016 09:58</td>\n",
       "      <td>morning</td>\n",
       "      <td>weekend</td>\n",
       "      <td>2016-10-30</td>\n",
       "      <td>2016</td>\n",
       "      <td>10</td>\n",
       "      <td>30</td>\n",
       "      <td>9</td>\n",
       "    </tr>\n",
       "    <tr>\n",
       "      <th>1</th>\n",
       "      <td>2</td>\n",
       "      <td>Scandinavian</td>\n",
       "      <td>30-10-2016 10:05</td>\n",
       "      <td>morning</td>\n",
       "      <td>weekend</td>\n",
       "      <td>2016-10-30</td>\n",
       "      <td>2016</td>\n",
       "      <td>10</td>\n",
       "      <td>30</td>\n",
       "      <td>10</td>\n",
       "    </tr>\n",
       "    <tr>\n",
       "      <th>2</th>\n",
       "      <td>2</td>\n",
       "      <td>Scandinavian</td>\n",
       "      <td>30-10-2016 10:05</td>\n",
       "      <td>morning</td>\n",
       "      <td>weekend</td>\n",
       "      <td>2016-10-30</td>\n",
       "      <td>2016</td>\n",
       "      <td>10</td>\n",
       "      <td>30</td>\n",
       "      <td>10</td>\n",
       "    </tr>\n",
       "    <tr>\n",
       "      <th>3</th>\n",
       "      <td>3</td>\n",
       "      <td>Hot chocolate</td>\n",
       "      <td>30-10-2016 10:07</td>\n",
       "      <td>morning</td>\n",
       "      <td>weekend</td>\n",
       "      <td>2016-10-30</td>\n",
       "      <td>2016</td>\n",
       "      <td>10</td>\n",
       "      <td>30</td>\n",
       "      <td>10</td>\n",
       "    </tr>\n",
       "    <tr>\n",
       "      <th>4</th>\n",
       "      <td>3</td>\n",
       "      <td>Jam</td>\n",
       "      <td>30-10-2016 10:07</td>\n",
       "      <td>morning</td>\n",
       "      <td>weekend</td>\n",
       "      <td>2016-10-30</td>\n",
       "      <td>2016</td>\n",
       "      <td>10</td>\n",
       "      <td>30</td>\n",
       "      <td>10</td>\n",
       "    </tr>\n",
       "    <tr>\n",
       "      <th>...</th>\n",
       "      <td>...</td>\n",
       "      <td>...</td>\n",
       "      <td>...</td>\n",
       "      <td>...</td>\n",
       "      <td>...</td>\n",
       "      <td>...</td>\n",
       "      <td>...</td>\n",
       "      <td>...</td>\n",
       "      <td>...</td>\n",
       "      <td>...</td>\n",
       "    </tr>\n",
       "    <tr>\n",
       "      <th>20502</th>\n",
       "      <td>9682</td>\n",
       "      <td>Coffee</td>\n",
       "      <td>09-04-2017 14:32</td>\n",
       "      <td>afternoon</td>\n",
       "      <td>weekend</td>\n",
       "      <td>2017-04-09</td>\n",
       "      <td>2017</td>\n",
       "      <td>04</td>\n",
       "      <td>09</td>\n",
       "      <td>14</td>\n",
       "    </tr>\n",
       "    <tr>\n",
       "      <th>20503</th>\n",
       "      <td>9682</td>\n",
       "      <td>Tea</td>\n",
       "      <td>09-04-2017 14:32</td>\n",
       "      <td>afternoon</td>\n",
       "      <td>weekend</td>\n",
       "      <td>2017-04-09</td>\n",
       "      <td>2017</td>\n",
       "      <td>04</td>\n",
       "      <td>09</td>\n",
       "      <td>14</td>\n",
       "    </tr>\n",
       "    <tr>\n",
       "      <th>20504</th>\n",
       "      <td>9683</td>\n",
       "      <td>Coffee</td>\n",
       "      <td>09-04-2017 14:57</td>\n",
       "      <td>afternoon</td>\n",
       "      <td>weekend</td>\n",
       "      <td>2017-04-09</td>\n",
       "      <td>2017</td>\n",
       "      <td>04</td>\n",
       "      <td>09</td>\n",
       "      <td>14</td>\n",
       "    </tr>\n",
       "    <tr>\n",
       "      <th>20505</th>\n",
       "      <td>9683</td>\n",
       "      <td>Pastry</td>\n",
       "      <td>09-04-2017 14:57</td>\n",
       "      <td>afternoon</td>\n",
       "      <td>weekend</td>\n",
       "      <td>2017-04-09</td>\n",
       "      <td>2017</td>\n",
       "      <td>04</td>\n",
       "      <td>09</td>\n",
       "      <td>14</td>\n",
       "    </tr>\n",
       "    <tr>\n",
       "      <th>20506</th>\n",
       "      <td>9684</td>\n",
       "      <td>Smoothies</td>\n",
       "      <td>09-04-2017 15:04</td>\n",
       "      <td>afternoon</td>\n",
       "      <td>weekend</td>\n",
       "      <td>2017-04-09</td>\n",
       "      <td>2017</td>\n",
       "      <td>04</td>\n",
       "      <td>09</td>\n",
       "      <td>15</td>\n",
       "    </tr>\n",
       "  </tbody>\n",
       "</table>\n",
       "<p>20507 rows × 10 columns</p>\n",
       "</div>"
      ],
      "text/plain": [
       "       Transaction           Item         date_time period_day  \\\n",
       "0                1          Bread  30-10-2016 09:58    morning   \n",
       "1                2   Scandinavian  30-10-2016 10:05    morning   \n",
       "2                2   Scandinavian  30-10-2016 10:05    morning   \n",
       "3                3  Hot chocolate  30-10-2016 10:07    morning   \n",
       "4                3            Jam  30-10-2016 10:07    morning   \n",
       "...            ...            ...               ...        ...   \n",
       "20502         9682         Coffee  09-04-2017 14:32  afternoon   \n",
       "20503         9682            Tea  09-04-2017 14:32  afternoon   \n",
       "20504         9683         Coffee  09-04-2017 14:57  afternoon   \n",
       "20505         9683         Pastry  09-04-2017 14:57  afternoon   \n",
       "20506         9684      Smoothies  09-04-2017 15:04  afternoon   \n",
       "\n",
       "      weekday_weekend  clean_date  year month day  hour  \n",
       "0             weekend  2016-10-30  2016    10  30     9  \n",
       "1             weekend  2016-10-30  2016    10  30    10  \n",
       "2             weekend  2016-10-30  2016    10  30    10  \n",
       "3             weekend  2016-10-30  2016    10  30    10  \n",
       "4             weekend  2016-10-30  2016    10  30    10  \n",
       "...               ...         ...   ...   ...  ..   ...  \n",
       "20502         weekend  2017-04-09  2017    04  09    14  \n",
       "20503         weekend  2017-04-09  2017    04  09    14  \n",
       "20504         weekend  2017-04-09  2017    04  09    14  \n",
       "20505         weekend  2017-04-09  2017    04  09    14  \n",
       "20506         weekend  2017-04-09  2017    04  09    15  \n",
       "\n",
       "[20507 rows x 10 columns]"
      ]
     },
     "metadata": {},
     "execution_count": 21
    }
   ],
   "metadata": {}
  },
  {
   "cell_type": "markdown",
   "source": [
    "Se prefiere la siguiente porque asi se puede apreciar mejor la concentracion:"
   ],
   "metadata": {}
  },
  {
   "cell_type": "code",
   "execution_count": 25,
   "source": [
    "data_cleandate.plot.hexbin(x=\"hour\",y=\"Transaction\", gridsize=15)"
   ],
   "outputs": [
    {
     "output_type": "execute_result",
     "data": {
      "text/plain": [
       "<AxesSubplot:xlabel='hour', ylabel='Transaction'>"
      ]
     },
     "metadata": {},
     "execution_count": 25
    },
    {
     "output_type": "display_data",
     "data": {
      "image/png": "[encoded data removed]",
      "text/plain": [
       "<Figure size 432x288 with 2 Axes>"
      ]
     },
     "metadata": {
      "needs_background": "light"
     }
    }
   ],
   "metadata": {}
  },
  {
   "cell_type": "markdown",
   "source": [
    "## Stacked plots\r\n",
    "Este nos ayuda a comparar no solo la diferencia de ventas en los tiempos en el dia, si no a comparar tambien el total de ventas separados por entre semana y fin de semana:"
   ],
   "metadata": {}
  },
  {
   "cell_type": "code",
   "execution_count": null,
   "source": [
    "pd.DataFrame(data_cleandate.pivot_table(index=\"weekday_weekend\", columns=\"period_day\", aggfunc=\"size\", fill_value=0), columns = [\"weekday_weekend\",\"afternoon\",\"evening\",\"morning\",\"night\"])[[\"afternoon\",\"evening\",\"morning\",\"night\"]].plot.bar(stacked = True)\r\n",
    "#replace(['afternoon','evening','morning','night','weekday','weekend'],[1,2,0,3,1,2])"
   ],
   "outputs": [
    {
     "output_type": "execute_result",
     "data": {
      "text/plain": [
       "<AxesSubplot:xlabel='weekday_weekend'>"
      ]
     },
     "metadata": {},
     "execution_count": 131
    },
    {
     "output_type": "display_data",
     "data": {
      "image/png": "[encoded data removed]",
      "text/plain": [
       "<Figure size 432x288 with 1 Axes>"
      ]
     },
     "metadata": {
      "needs_background": "light"
     }
    }
   ],
   "metadata": {}
  },
  {
   "cell_type": "markdown",
   "source": [
    "Con este es evidente las ventas totales entre semana superan al fin pero son parecidas:"
   ],
   "metadata": {}
  },
  {
   "cell_type": "code",
   "execution_count": null,
   "source": [
    "pd.DataFrame(data_cleandate.pivot_table(index=\"weekday_weekend\", columns=\"period_day\", aggfunc=\"size\", fill_value=0), columns = [\"weekday_weekend\",\"afternoon\",\"evening\",\"morning\",\"night\"])[[\"afternoon\",\"evening\",\"morning\",\"night\"]].plot.area()"
   ],
   "outputs": [
    {
     "output_type": "execute_result",
     "data": {
      "text/plain": [
       "<AxesSubplot:xlabel='weekday_weekend'>"
      ]
     },
     "metadata": {},
     "execution_count": 134
    },
    {
     "output_type": "display_data",
     "data": {
      "image/png": "[encoded data removed]",
      "text/plain": [
       "<Figure size 432x288 with 1 Axes>"
      ]
     },
     "metadata": {
      "needs_background": "light"
     }
    }
   ],
   "metadata": {}
  },
  {
   "cell_type": "markdown",
   "source": [
    "Aqui se hace el comparativo pero separados por periodo del dia:\r\n",
    "(Las separaciones son mañana, tarde, atardecer y noche pero fueron cambiados a numeros para poder ordenarlos)"
   ],
   "metadata": {}
  },
  {
   "cell_type": "code",
   "execution_count": null,
   "source": [
    "pd.DataFrame(data_cleandate.replace(['afternoon','evening','morning','night'],[1,2,0,3]).pivot_table(index=\"period_day\", columns=\"weekday_weekend\", aggfunc=\"size\", fill_value=0))[ [\"weekday\",\"weekend\"]].plot.bar(stacked = True)\r\n",
    "#data_cleandate.replace(['afternoon','evening','morning','night'],[1,2,0,3]).pivot_table(index=\"period_day\", columns=\"weekday_weekend\", aggfunc=\"size\", fill_value=0)\r\n",
    "#replace(['afternoon','evening','morning','night','weekday','weekend'],[1,2,0,3,1,2])\r\n",
    "#data_cleandate.pivot_table(index=\"period_day\", columns=\"weekday_weekend\", aggfunc=\"size\", fill_value=0)"
   ],
   "outputs": [
    {
     "output_type": "execute_result",
     "data": {
      "text/plain": [
       "<AxesSubplot:xlabel='period_day'>"
      ]
     },
     "metadata": {},
     "execution_count": 140
    },
    {
     "output_type": "display_data",
     "data": {
      "image/png": "[encoded data removed]",
      "text/plain": [
       "<Figure size 432x288 with 1 Axes>"
      ]
     },
     "metadata": {
      "needs_background": "light"
     }
    }
   ],
   "metadata": {}
  },
  {
   "cell_type": "markdown",
   "source": [
    "Con este es mas evidente las horas en las que las ventas son mayores:"
   ],
   "metadata": {}
  },
  {
   "cell_type": "code",
   "execution_count": null,
   "source": [
    "pd.DataFrame(data_cleandate.replace(['afternoon','evening','morning','night'],[1,2,0,3]).pivot_table(index=\"period_day\", columns=\"weekday_weekend\", aggfunc=\"size\", fill_value=0))[ [\"weekday\",\"weekend\"]].plot.area()\r\n"
   ],
   "outputs": [
    {
     "output_type": "execute_result",
     "data": {
      "text/plain": [
       "<AxesSubplot:xlabel='period_day'>"
      ]
     },
     "metadata": {},
     "execution_count": 141
    },
    {
     "output_type": "display_data",
     "data": {
      "image/png": "[encoded data removed]",
      "text/plain": [
       "<Figure size 432x288 with 1 Axes>"
      ]
     },
     "metadata": {
      "needs_background": "light"
     }
    }
   ],
   "metadata": {}
  },
  {
   "cell_type": "markdown",
   "source": [
    "## Boxplot"
   ],
   "metadata": {}
  },
  {
   "cell_type": "code",
   "execution_count": 26,
   "source": [
    "import seaborn as sns"
   ],
   "outputs": [],
   "metadata": {}
  },
  {
   "cell_type": "markdown",
   "source": [
    "Se puede visualizar la concentracion de los datos entre semana y fin de semana de acuerdo a su hora. En la cual podemos ver que la concentracion de ventas es entre las 9 y 15 horas:"
   ],
   "metadata": {}
  },
  {
   "cell_type": "code",
   "execution_count": 27,
   "source": [
    "sns.boxplot(x=\"weekday_weekend\", y= \"hour\", data = data_cleandate)"
   ],
   "outputs": [
    {
     "output_type": "execute_result",
     "data": {
      "text/plain": [
       "<AxesSubplot:xlabel='weekday_weekend', ylabel='hour'>"
      ]
     },
     "metadata": {},
     "execution_count": 27
    },
    {
     "output_type": "display_data",
     "data": {
      "image/png": "[encoded data removed]",
      "text/plain": [
       "<Figure size 432x288 with 1 Axes>"
      ]
     },
     "metadata": {
      "needs_background": "light"
     }
    }
   ],
   "metadata": {}
  },
  {
   "cell_type": "code",
   "execution_count": 28,
   "source": [
    "sns.violinplot(x=\"weekday_weekend\", y= \"hour\", data = data_cleandate)"
   ],
   "outputs": [
    {
     "output_type": "execute_result",
     "data": {
      "text/plain": [
       "<AxesSubplot:xlabel='weekday_weekend', ylabel='hour'>"
      ]
     },
     "metadata": {},
     "execution_count": 28
    },
    {
     "output_type": "display_data",
     "data": {
      "image/png": "[encoded data removed]",
      "text/plain": [
       "<Figure size 432x288 with 1 Axes>"
      ]
     },
     "metadata": {
      "needs_background": "light"
     }
    }
   ],
   "metadata": {}
  },
  {
   "cell_type": "markdown",
   "source": [
    "## Pie chart COMPARACION"
   ],
   "metadata": {}
  },
  {
   "cell_type": "markdown",
   "source": [
    "En la siguiente podemos comparar los mismos datos, solo que de forma distinta. En las barras podemos distinguir el periodo de dia donde mas se vende junto con su frecuencia pero en la grafica de pastel, solo de puede observar la proporcion total:"
   ],
   "metadata": {}
  },
  {
   "cell_type": "code",
   "execution_count": 29,
   "source": [
    "import matplotlib.pyplot as plt"
   ],
   "outputs": [],
   "metadata": {}
  },
  {
   "cell_type": "code",
   "execution_count": 59,
   "source": [
    "fig, (ax1,ax2) = plt.subplots(1,2,figsize=(10,10))\r\n",
    "piedata = data_cleandate.groupby(by = \"period_day\").size().reset_index(name='counts')\r\n",
    "ax1.pie(piedata[\"counts\"],labels = piedata[\"period_day\"])\r\n",
    "\r\n",
    "bardata= data_cleandate.groupby(by =\"period_day\").size().reset_index(name='counts')\r\n",
    "ax2.bar(bardata[\"period_day\"],bardata[\"counts\"])\r\n"
   ],
   "outputs": [
    {
     "output_type": "execute_result",
     "data": {
      "text/plain": [
       "<BarContainer object of 4 artists>"
      ]
     },
     "metadata": {},
     "execution_count": 59
    },
    {
     "output_type": "display_data",
     "data": {
      "image/png": "[encoded data removed]",
      "text/plain": [
       "<Figure size 720x720 with 2 Axes>"
      ]
     },
     "metadata": {
      "needs_background": "light"
     }
    }
   ],
   "metadata": {}
  },
  {
   "cell_type": "markdown",
   "source": [
    "# Conclusion \r\n",
    "Con las visualizaciones ahora es mas claro tomar decisiones en cuanto cuales productos son mas vendidos y a que hora del dia es en donde se presentan mas compras.\r\n",
    "Toda esta informacion, en caso de que seamos los dueños del negocio, nos es de gran ayuda para tomar decisiones en los suministros de cada producto. \r\n",
    "Lo que nos hace falta es saber cuales son los conjuntos de datos que mas se venden, el cual se estara utilizando las reglas de decision y en cuanto a la tendencia en ventas (popularidad) tambien se estara empleando un analisis de serie de tiempo."
   ],
   "metadata": {}
  }
 ],
 "metadata": {
  "orig_nbformat": 4,
  "language_info": {
   "name": "python",
   "version": "3.9.6",
   "mimetype": "text/x-python",
   "codemirror_mode": {
    "name": "ipython",
    "version": 3
   },
   "pygments_lexer": "ipython3",
   "nbconvert_exporter": "python",
   "file_extension": ".py"
  },
  "kernelspec": {
   "name": "python3",
   "display_name": "Python 3.9.6 64-bit"
  },
  "interpreter": {
   "hash": "63fd5069d213b44bf678585dea6b12cceca9941eaf7f819626cde1f2670de90d"
  }
 },
 "nbformat": 4,
 "nbformat_minor": 2
}