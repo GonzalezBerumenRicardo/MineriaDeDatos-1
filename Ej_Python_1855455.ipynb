{
  "nbformat": 4,
  "nbformat_minor": 0,
  "metadata": {
    "colab": {
      "name": "Ej_Python_1855455.ipynb",
      "provenance": [],
      "collapsed_sections": [],
      "authorship_tag": "ABX9TyOlG6U/OH/XorWxs0VtxnWo",
      "include_colab_link": true
    },
    "kernelspec": {
      "name": "python3",
      "display_name": "Python 3"
    },
    "language_info": {
      "name": "python"
    }
  },
  "cells": [
    {
      "cell_type": "markdown",
      "metadata": {
        "id": "view-in-github",
        "colab_type": "text"
      },
      "source": [
        "<a href=\"https://colab.research.google.com/github/claudiogaytan28/MineriaDeDatos/blob/main/Ej_Python_1855455.ipynb\" target=\"_parent\"><img src=\"https://colab.research.google.com/assets/colab-badge.svg\" alt=\"Open In Colab\"/></a>"
      ]
    },
    {
      "cell_type": "markdown",
      "metadata": {
        "id": "xwYiRVtCXDb8"
      },
      "source": [
        "# EJERCICIO 1:\n",
        "Realiza una variable con tu matricula y realiza una secuencia de imprimir con tu nombre y tu matricula concatenados."
      ]
    },
    {
      "cell_type": "code",
      "metadata": {
        "id": "sWHJad7SWZ10"
      },
      "source": [
        "matricula = 1855455\n",
        "print(\"Mi nombre es Claudio Gaytan y mi matricula es:\", matricula)"
      ],
      "execution_count": null,
      "outputs": []
    },
    {
      "cell_type": "markdown",
      "metadata": {
        "id": "9iWqO9jzYDGm"
      },
      "source": [
        "#Ejercicio 2:\n",
        "Pidiendo el input del usuario pide dos números y crea una pequeña calculadora con los operadores básicos de suma, resta, multiplicación, división, y exponente."
      ]
    },
    {
      "cell_type": "code",
      "metadata": {
        "id": "ExDefoUmX6fS"
      },
      "source": [
        "a1 = int(input(\"Introduzca el primer numero: \"))\n",
        "a2 = int(input(\"\\n Introduzca el segundo numero: \"))\n",
        "suma = a1+a2\n",
        "resta =a1-a2\n",
        "mult = a1*a2\n",
        "divi = a1/a2\n",
        "expo = a1**a2\n",
        "print(\"\\n a1+a2: \",suma,\"\\n a1-a2: \",resta,\"\\n a1*a2: \", mult,\"\\n a1/a2: \",divi,\"\\n a1^a2:\",expo)\n"
      ],
      "execution_count": null,
      "outputs": []
    },
    {
      "cell_type": "markdown",
      "metadata": {
        "id": "UEFLfbXLX3RP"
      },
      "source": [
        "# Ejercicio 3:\n",
        "Con loop while o for, realiza una lista de 10 numeros multiplos de 3, y después realiza una función de loop que sume todos los números dentro del arreglo."
      ]
    },
    {
      "cell_type": "code",
      "metadata": {
        "id": "8GoJVjRHagHp"
      },
      "source": [
        "j=0\n",
        "lista = list(range(0,10))\n",
        "#Creacion de la lista con multiplos del 3\n",
        "for i in range(333,0,-3):\n",
        "  lista[j] = i\n",
        "  j+=1\n",
        "  if j == 10:\n",
        "    break\n",
        "\n",
        "#Suma de elementos\n",
        "sum = 0\n",
        "for i in range(0,10):\n",
        "  sum += lista[i]\n",
        "\n",
        "print(\"\\n Numeros de la lista: \", lista,\"\\n Suma de la lista: \",sum)"
      ],
      "execution_count": null,
      "outputs": []
    },
    {
      "cell_type": "markdown",
      "metadata": {
        "id": "bzqnBj11zUA1"
      },
      "source": [
        "#Ejercicio 4\n",
        "Con una función de if else, revisar si un número es par o es impar.\n",
        "\n",
        "Con una función de if else, revisar si un número es primo o no."
      ]
    },
    {
      "cell_type": "code",
      "metadata": {
        "id": "XKFPUffjzclB"
      },
      "source": [
        "a = int(input(\"Introduce un número: \"))\n",
        "\n",
        "#Verificacion par o impar\n",
        "if a % 2 == 0:\n",
        "  print(\"\\nEl numero %d es par\" %a)\n",
        "else:\n",
        "  print(\"\\nEl numero %d es impar\" %a)\n",
        "\n",
        "#Verificacion si es primo\n",
        "t = 0\n",
        "for i in range(1, a+1):\n",
        "  if i == 1:\n",
        "    continue  \n",
        "  if i == a:\n",
        "    continue\n",
        "  if a%i == 0:\n",
        "    print(\"\\nEl numero %d no es primo\" %a)\n",
        "    t = 1\n",
        "    break\n",
        "if t == 0:\n",
        "  print(\"\\nEl numero %d es primo\" %a)"
      ],
      "execution_count": null,
      "outputs": []
    },
    {
      "cell_type": "markdown",
      "metadata": {
        "id": "P4b0Gn465HB-"
      },
      "source": [
        "#Ejercicio 5\n",
        "Utilizando diferentes clases en python, crea una calculadora con los operadores básicos de suma, resta, multiplicación, división, y exponente."
      ]
    },
    {
      "cell_type": "code",
      "metadata": {
        "colab": {
          "base_uri": "https://localhost:8080/"
        },
        "id": "VQSelBmt5V0_",
        "outputId": "f8813449-d78a-409b-838d-7d97c30d9791"
      },
      "source": [
        "import math as m\n",
        "def Suma():\n",
        "  a = float(input(\"Introduce un número: \"))\n",
        "  b = float(input(\"Introduce un número: \"))\n",
        "  c = a+b\n",
        "  return c\n",
        "\n",
        "def Resta():\n",
        "  a = float(input(\"Introduce un número: \"))\n",
        "  b = float(input(\"Introduce un número: \"))\n",
        "  c = a-b\n",
        "  return c\n",
        "\n",
        "def Multiplicacion():\n",
        "  a = float(input(\"Introduce un número: \"))\n",
        "  b = float(input(\"Introduce un número: \"))\n",
        "  c = a*b\n",
        "  return c\n",
        "\n",
        "def Division():\n",
        "  a = float(input(\"Introduce un número: \"))\n",
        "  b = float(input(\"Introduce un número: \"))\n",
        "  c = a/b\n",
        "  return c\n",
        "\n",
        "def Exponente():\n",
        "  a = float(input(\"Introduce un número: \"))\n",
        "  c = m.exp(a)\n",
        "  return c\n",
        "\n",
        "op = int(input(\"Introduce una opcion [1:5]: \"))\n",
        "\n",
        "if op == 1:\n",
        "  print(\"Resultado: \", Suma())\n",
        "elif op == 2:\n",
        "  print(\"Resultado: \", Resta())\n",
        "elif op == 3:\n",
        "  print(\"Resultado: \", Multiplicacion())\n",
        "elif op == 4:\n",
        "  print(\"Resultado: \", Division())\n",
        "elif op == 5:\n",
        "  print(\"Resultado: \", Exponente())"
      ],
      "execution_count": 22,
      "outputs": [
        {
          "output_type": "stream",
          "text": [
            "Introduce una opcion [1:5]: 5\n",
            "Introduce un número: 1\n",
            "Resultado:  2.718281828459045\n"
          ],
          "name": "stdout"
        }
      ]
    },
    {
      "cell_type": "markdown",
      "metadata": {
        "id": "wtoB44ZG-c9N"
      },
      "source": [
        "#Ejercicios con estructuras básicas de python.\n",
        "##Tuplas\n",
        "* Crear una variable flotante, integer, boleana y compleja e imprimir el tipo de variable que es.\n",
        "\n",
        "* Crear una tupla con valores enteros imprimir el primer y ultimo valor.\n",
        "\n",
        "* Añadir 3 valores de string a la tupla.\n",
        "\n",
        "* Verificar si una variable existe dentro de la tupla."
      ]
    },
    {
      "cell_type": "code",
      "metadata": {
        "id": "qH_DqsQb--4I"
      },
      "source": [
        "#Parte 1\n",
        "flotante = 2.34445\n",
        "entero = 5\n",
        "boleano = True\n",
        "compleja = 2 + 4.3j\n",
        "\n",
        "print(\"2.34445 es de tipo: \", type(flotante))\n",
        "print(\"5 es de tipo: \", type(entero))\n",
        "print(\"True es de tipo: \", type(boleano))\n",
        "print(\"2 + 4.3j es de tipo: \", type(compleja))"
      ],
      "execution_count": null,
      "outputs": []
    },
    {
      "cell_type": "code",
      "metadata": {
        "id": "eBuLGfM2CIgy"
      },
      "source": [
        "#Parte 2 Primer y ultimo elemento\n",
        "tupla = (1,8,4,6,7)\n",
        "print(\"El primer elemento es: %d y el ulltimo elemento es: %d \"%(tupla[0],tupla[-1]))"
      ],
      "execution_count": null,
      "outputs": []
    },
    {
      "cell_type": "code",
      "metadata": {
        "id": "jBlpt4tuDbt8"
      },
      "source": [
        "#Parte 3 Agregar 3 elementos string a tupla\n",
        "tupla = (8,5,4,3,2,1)\n",
        "tupla = tupla.__add__((\"xyz\",\"y\",\"u\"))\n",
        "print(tupla)"
      ],
      "execution_count": null,
      "outputs": []
    },
    {
      "cell_type": "code",
      "metadata": {
        "id": "3qyyExuCF_US"
      },
      "source": [
        "#Parte 4 Verificar si una variable existe en la tupla\n",
        "a = 8\n",
        "tupla = (8,5,4,3,2,1)\n",
        "a in tupla"
      ],
      "execution_count": null,
      "outputs": []
    },
    {
      "cell_type": "markdown",
      "metadata": {
        "id": "Elo37mZ0Gfm3"
      },
      "source": [
        "##Listas\n",
        "* Crear una lista con 40 elementos aleatorios enteros.\n",
        "\n",
        "* Con una funcion (def) crear dos listas nuevas a partir de la lista creada por numeros aleatorios, en la cual en una esten los elementos pares, y en la otra los elementos impares.\n",
        "\n",
        "* Crear dos variables con la longitud de ambas listas nuevas e imprimir las variables.\n",
        "\n",
        "* Ordenar los elementos de la lista par de mayor a menor, y los de la lista impar de menor a mayor.\n",
        "\n",
        "* Utilizar al menos cuatro de las funciones de listas en python en la lista original de 40 elementos."
      ]
    },
    {
      "cell_type": "code",
      "metadata": {
        "id": "-trVZ7R6GpFt"
      },
      "source": [
        "import random as r\n",
        "import numpy as np\n",
        "\n",
        "#Creacion de 40 numeros aleatorios para una lista\n",
        "num_aleatorios = []\n",
        "for i in range(40):\n",
        "  num_aleatorios.append(r.randint(5,1000))\n",
        "\n",
        "#Funcion para separar pares e impares\n",
        "\n",
        "def Separacion(lista):\n",
        "  pares = []\n",
        "  impares = []\n",
        "  for i in lista:\n",
        "    #Verificacion par o impar\n",
        "    if i % 2 == 0:\n",
        "      pares.append(i)\n",
        "    else:\n",
        "      impares.append(i)\n",
        "  return (pares, impares)\n",
        "\n",
        "pares, impares = Separacion(num_aleatorios)\n",
        "\n",
        "#Longitud de las listas separadas\n",
        "print(\"Longitud de la lista con pares: \", len(pares))\n",
        "print(\"Longitud de la lista con impares: \", len(impares))\n",
        "\n",
        "#Ordenamiento de forma descendente\n",
        "paresDesc = sorted(pares, reverse = True)\n",
        "print(paresDesc)\n",
        "\n",
        "#Ordenamiento de forma ascendiente\n",
        "imparesAsc = sorted(impares)\n",
        "print(imparesAsc)\n",
        "\n",
        "\n"
      ],
      "execution_count": null,
      "outputs": []
    },
    {
      "cell_type": "markdown",
      "metadata": {
        "id": "jZYR_YF6SnOe"
      },
      "source": [
        "##Diccionarios\n",
        "* Crear un diccionario de 6 personas que conozcas con su primer nombre y su edad.\n",
        "\n",
        "* Crear una lista con los valores de la edad y reacomodar la lista de menor a mayor valor.\n",
        "\n",
        "* Usando el diccionario y un loop, imprimir solo los nombres.\n",
        "\n",
        "* Añadir dos personas nuevas a tu diccionario, incluyendo edad."
      ]
    },
    {
      "cell_type": "code",
      "metadata": {
        "id": "KIKXKkT4S0Gk"
      },
      "source": [
        ""
      ],
      "execution_count": null,
      "outputs": []
    }
  ]
}