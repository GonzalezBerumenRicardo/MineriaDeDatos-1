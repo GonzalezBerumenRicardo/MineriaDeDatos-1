{
 "metadata": {
  "language_info": {
   "codemirror_mode": {
    "name": "ipython",
    "version": 3
   },
   "file_extension": ".py",
   "mimetype": "text/x-python",
   "name": "python",
   "nbconvert_exporter": "python",
   "pygments_lexer": "ipython3",
   "version": "3.9.6"
  },
  "orig_nbformat": 4,
  "kernelspec": {
   "name": "python3",
   "display_name": "Python 3.9.6 64-bit"
  },
  "interpreter": {
   "hash": "63fd5069d213b44bf678585dea6b12cceca9941eaf7f819626cde1f2670de90d"
  }
 },
 "nbformat": 4,
 "nbformat_minor": 2,
 "cells": [
  {
   "source": [
    "# Limpieza de datos\n",
    "#   Equipo 3\n",
    "#   Grupo 001 Lunes 7 - 10 pm \n",
    "#   Integrantes: \n",
    "*\tRicardo González Berumen   \t\t1941497\n",
    "*\tJosé Claudio Gaytán Gutiérrez\t1855455\n",
    "*\tRuy Aramis López Verduzco\t\t1863861\n",
    "*\tNancy Janeth Rodríguez Pacheco\t1845816\n",
    "*\tThalía Ruiz Espitia\t\t\t\t1941494\n",
    "\n",
    "\n",
    "\n",
    "## Importamos librerias y el archivo csv"
   ],
   "cell_type": "markdown",
   "metadata": {}
  },
  {
   "source": [
    "import pandas as pd\n",
    "import numpy as np\n",
    "import json\n",
    "\n",
    "#Lectura de archivo\n",
    "df = pd.read_csv(\"winemag_data_130k_v2.csv\")"
   ],
   "cell_type": "code",
   "metadata": {},
   "execution_count": null,
   "outputs": []
  },
  {
   "source": [
    "## Visualizacion de los datos "
   ],
   "cell_type": "markdown",
   "metadata": {}
  },
  {
   "cell_type": "code",
   "execution_count": null,
   "metadata": {},
   "outputs": [],
   "source": [
    "#Dimensiones de la base de datos\n",
    "df.shape"
   ]
  },
  {
   "cell_type": "code",
   "execution_count": null,
   "metadata": {},
   "outputs": [],
   "source": [
    "#Primeros 5\n",
    "df.head()"
   ]
  },
  {
   "cell_type": "code",
   "execution_count": null,
   "metadata": {},
   "outputs": [],
   "source": [
    "#Ultimos 5\n",
    "df.tail()"
   ]
  },
  {
   "cell_type": "code",
   "execution_count": null,
   "metadata": {},
   "outputs": [],
   "source": [
    "#Nombres de columnas\n",
    "df.columns"
   ]
  },
  {
   "source": [
    "Se tiene la columna 'Unnamed: 0' la cual se modificara a \"indice\" para mejor manipulacion"
   ],
   "cell_type": "markdown",
   "metadata": {}
  },
  {
   "source": [
    "df = df.rename(columns = {'Unnamed: 0' : 'indice'})"
   ],
   "cell_type": "code",
   "metadata": {},
   "execution_count": null,
   "outputs": []
  },
  {
   "source": [
    "## Descripcion de las columnas"
   ],
   "cell_type": "markdown",
   "metadata": {}
  },
  {
   "cell_type": "code",
   "execution_count": null,
   "metadata": {},
   "outputs": [],
   "source": [
    "df.shape"
   ]
  },
  {
   "source": [
    "Las dimensiones del data frame son:\n",
    "* 14 columnas \n",
    "* 129971 renglones"
   ],
   "cell_type": "markdown",
   "metadata": {}
  },
  {
   "source": [
    "df.dtypes"
   ],
   "cell_type": "code",
   "metadata": {},
   "execution_count": null,
   "outputs": []
  },
  {
   "source": [
    "* Las columnas: country, description, designation, province, region_1, region_2, taster_name, taster_twitter_handle, title, variety, winery son tipo objeto o string\n",
    "\n",
    "* Las columnas indice y points son tipo entero\n",
    "\n",
    "* Las columnas price son tipo flotante"
   ],
   "cell_type": "markdown",
   "metadata": {}
  },
  {
   "cell_type": "code",
   "execution_count": null,
   "metadata": {},
   "outputs": [],
   "source": [
    "df.isnull().sum()"
   ]
  },
  {
   "cell_type": "code",
   "execution_count": null,
   "metadata": {},
   "outputs": [],
   "source": [
    "df_sinNulos = df.fillna(\"vacio\")"
   ]
  },
  {
   "source": [
    "Se tiene que las columnas con tipo objeto y que tienen valores nulos no se les puede asignar valores 0 por lo que se les sustituyo con la palabra vacio"
   ],
   "cell_type": "markdown",
   "metadata": {}
  },
  {
   "source": [
    "## Agrupacion de datos en bases de datos diferentes por pais"
   ],
   "cell_type": "markdown",
   "metadata": {}
  },
  {
   "cell_type": "code",
   "execution_count": null,
   "metadata": {
    "tags": []
   },
   "outputs": [],
   "source": [
    "countries = df_sinNulos.groupby(\"country\") #Agrupamos por pais\n",
    "countries.get_group(\"vacio\") #Para llamar algun especifico pais"
   ]
  },
  {
   "cell_type": "code",
   "execution_count": null,
   "metadata": {
    "tags": [
     "outputPrepend"
    ]
   },
   "outputs": [],
   "source": [
    "#Para imprimir los paises con su informacion\n",
    "or names,groups in countries:\n",
    "    print()names\n",
    "    print()groups"
   ]
  }
 ]
}